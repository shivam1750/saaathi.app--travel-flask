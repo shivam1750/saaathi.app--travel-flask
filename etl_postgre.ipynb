{
 "cells": [
  {
   "cell_type": "code",
   "execution_count": null,
   "metadata": {
    "vscode": {
     "languageId": "plaintext"
    }
   },
   "outputs": [],
   "source": [
    "from airflow import DAG\n",
    "from airflow.providers.http.operators.http import SimpleHttpOperator\n",
    "from airflow.decorators import task\n",
    "from airflow.providers.postgres.hooks.postgres import PostgresHook\n",
    "from airflow.utils.dates import days_ago\n",
    "import json\n"
   ]
  },
  {
   "cell_type": "code",
   "execution_count": null,
   "metadata": {
    "vscode": {
     "languageId": "plaintext"
    }
   },
   "outputs": [],
   "source": [
    "with DAG(\n",
    "    dag_id='nasa_apod_postgres',\n",
    "    start_date=days_ago(1),\n",
    "    schedule_interval='@daily',\n",
    "    catchup=False\n",
    "\n",
    ") as dag:"
   ]
  },
  {
   "cell_type": "code",
   "execution_count": null,
   "metadata": {
    "vscode": {
     "languageId": "plaintext"
    }
   },
   "outputs": [],
   "source": [
    "@task\n",
    "def create_table():\n",
    "    ## initialize the Postgreshook\n",
    "    postgres_hook=PostgresHook(postgres_conn_id=\"my_postgres_connection\")\n",
    "\n",
    "    ## SQL query to create the table\n",
    "    create_table_query=\"\"\"\n",
    "    CREATE TABLE IF NOT EXISTS apod_data (\n",
    "        id SERIAL PRIMARY KEY,\n",
    "        title VARCHAR(255),\n",
    "        explanation TEXT,\n",
    "        url TEXT,\n",
    "        date DATE,\n",
    "        media_type VARCHAR(50)\n",
    "    );\n",
    "\n",
    "\n",
    "    \"\"\"\n",
    "       ## Execute the table creation query\n",
    "    postgres_hook.run(create_table_query)"
   ]
  },
  {
   "cell_type": "code",
   "execution_count": null,
   "metadata": {
    "vscode": {
     "languageId": "plaintext"
    }
   },
   "outputs": [],
   "source": [
    "## Step 2: Extract the NASA API Data(APOD)-Astronomy Picture of the Day[Extract pipeline]\n",
    "## https://api.nasa.gov/planetary/apod?api_key=7BbRvxo8uuzas9U3ho1RwHQQCkZIZtJojRIr293q\n",
    "extract_apod=SimpleHttpOperator(\n",
    "    task_id='extract_apod',\n",
    "    http_conn_id='nasa_api',  ## Connection ID Defined In Airflow For NASA API\n",
    "    endpoint='planetary/apod', ## NASA API enpoint for APOD\n",
    "    method='GET',\n",
    "    data={\"api_key\":\"{{ conn.nasa_api.extra_dejson.api_key}}\"}, ## USe the API Key from the connection\n",
    "    response_filter=lambda response:response.json(), ## Convert response to json\n",
    ")"
   ]
  },
  {
   "cell_type": "code",
   "execution_count": null,
   "metadata": {
    "vscode": {
     "languageId": "plaintext"
    }
   },
   "outputs": [],
   "source": [
    "## Step 3: Transform the data(Pick the information that i need to save)\n",
    "@task\n",
    "def transform_apod_data(response):\n",
    "    apod_data={\n",
    "        'title': response.get('title', ''),\n",
    "        'explanation': response.get('explanation', ''),\n",
    "        'url': response.get('url', ''),\n",
    "        'date': response.get('date', ''),\n",
    "        'media_type': response.get('media_type', '')\n",
    "\n",
    "    }\n",
    "    return apod_data"
   ]
  },
  {
   "cell_type": "code",
   "execution_count": null,
   "metadata": {
    "vscode": {
     "languageId": "plaintext"
    }
   },
   "outputs": [],
   "source": [
    "## step 4:  Load the data into Postgres SQL\n",
    "@task\n",
    "def load_data_to_postgres(apod_data):\n",
    "    ## Initialize the PostgresHook\n",
    "    postgres_hook=PostgresHook(postgres_conn_id='my_postgres_connection')\n",
    "\n",
    "    ## Define the SQL Insert Query\n",
    "\n",
    "    insert_query = \"\"\"\n",
    "    INSERT INTO apod_data (title, explanation, url, date, media_type)\n",
    "    VALUES (%s, %s, %s, %s, %s);\n",
    "        \"\"\"\n",
    "\n",
    "    ## Execute the SQL Query\n",
    "\n",
    "    postgres_hook.run(insert_query,parameters=(\n",
    "        apod_data['title'],\n",
    "        apod_data['explanation'],\n",
    "        apod_data['url'],\n",
    "        apod_data['date'],\n",
    "        apod_data['media_type']\n",
    "\n",
    "\n",
    "    ))"
   ]
  },
  {
   "cell_type": "code",
   "execution_count": null,
   "metadata": {
    "vscode": {
     "languageId": "plaintext"
    }
   },
   "outputs": [],
   "source": [
    "## step 5:  Define the task dependencies\n",
    "## Extract\n",
    "create_table() >> extract_apod  ## Ensure the table is create befor extraction\n",
    "api_response=extract_apod.output\n",
    "## Transform\n",
    "transformed_data=transform_apod_data(api_response)\n",
    "## Load\n",
    "load_data_to_postgres(transformed_data)"
   ]
  }
 ],
 "metadata": {
  "language_info": {
   "name": "python"
  }
 },
 "nbformat": 4,
 "nbformat_minor": 2
}
